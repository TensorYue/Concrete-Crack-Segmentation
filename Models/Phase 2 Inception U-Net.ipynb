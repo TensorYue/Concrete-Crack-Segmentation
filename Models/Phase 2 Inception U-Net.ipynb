{
 "cells": [
  {
   "cell_type": "code",
   "execution_count": 1,
   "id": "5e3067fd-977e-43f1-b499-44bbb795c988",
   "metadata": {},
   "outputs": [],
   "source": [
    "from tensorflow.keras.models import Model\n",
    "from tensorflow.keras.layers import Input, Conv2D, MaxPooling2D, concatenate, Conv2DTranspose, BatchNormalization, Activation, AveragePooling2D"
   ]
  },
  {
   "cell_type": "code",
   "execution_count": 3,
   "id": "0e241a33",
   "metadata": {},
   "outputs": [],
   "source": [
    "# Define Inception 1 Block\n",
    "def conv_block1(input, num_filters):\n",
    "    x1 = Conv2D(num_filters, 1, padding = \"same\")(input)\n",
    "    x2 = Conv2D(num_filters, 3, padding = \"same\")(input)\n",
    "    x3 = Conv2D(num_filters, 5, padding = \"same\")(input)\n",
    "    x4 = AveragePooling2D(pool_size=(3, 3), strides=(1, 1), padding=\"same\")(input)\n",
    "    x = concatenate([x1, x2, x3, x4])\n",
    "    x = Conv2D(num_filters, 3, padding = \"same\")(x)\n",
    "    x = BatchNormalization()(x)\n",
    "    x = Activation(\"relu\")(x)\n",
    "    \n",
    "    \n",
    "    return x"
   ]
  },
  {
   "cell_type": "code",
   "execution_count": 4,
   "id": "37594513",
   "metadata": {},
   "outputs": [],
   "source": [
    "# Define Inception 2 Block\n",
    "def conv_block2(input, num_filters):\n",
    "    x1 = Conv2D(num_filters, 1, padding = \"same\")(input)\n",
    "    x2 = Conv2D(num_filters, 3, padding = \"same\")(input)\n",
    "    x4 = AveragePooling2D(pool_size=(3, 3), strides=(1, 1), padding=\"same\")(input)\n",
    "    x = concatenate([x1, x2, x4])\n",
    "    x = Conv2D(num_filters, 3, padding = \"same\")(x)\n",
    "    x = BatchNormalization()(x)\n",
    "    x = Activation(\"relu\")(x)\n",
    "    \n",
    "    \n",
    "    return x"
   ]
  },
  {
   "cell_type": "code",
   "execution_count": 5,
   "id": "b8d540f7-6a63-4fc0-af39-144b2fa3286f",
   "metadata": {},
   "outputs": [],
   "source": [
    "# Define Convolutional Block\n",
    "def conv_block(input, num_filters):\n",
    "\n",
    "    x = Conv2D(num_filters, 3, padding = \"same\")(input)\n",
    "    x = BatchNormalization()(x)\n",
    "    x = Activation(\"relu\")(x)\n",
    "    \n",
    "    x = Conv2D(num_filters, 3, padding = \"same\")(x)\n",
    "    x = BatchNormalization()(x)\n",
    "    x = Activation(\"relu\")(x)\n",
    "    \n",
    "    return x"
   ]
  },
  {
   "cell_type": "code",
   "execution_count": 6,
   "id": "631beada-d383-4120-91e7-aa861c2ba8b4",
   "metadata": {},
   "outputs": [],
   "source": [
    "# Define Encoder\n",
    "def encoder_block1(input, num_filters):\n",
    "    x = conv_block1(input, num_filters)\n",
    "    p = MaxPooling2D((2,2))(x)\n",
    "    return x, p\n",
    "\n",
    "def encoder_block2(input, num_filters):\n",
    "    x = conv_block2(input, num_filters)\n",
    "    p = MaxPooling2D((2,2))(x)\n",
    "    return x, p\n",
    "\n",
    "def encoder_block(input, num_filters):\n",
    "    x = conv_block(input, num_filters)\n",
    "    p = MaxPooling2D((2,2))(x)\n",
    "    return x, p"
   ]
  },
  {
   "cell_type": "code",
   "execution_count": 7,
   "id": "10407a5e-651b-4cdc-917b-a714600adfb5",
   "metadata": {},
   "outputs": [],
   "source": [
    "# Define Decoder\n",
    "def decoder_block(input, skip_features, num_filters):\n",
    "    x = Conv2DTranspose(num_filters, (2,2), strides = 2, padding = \"same\")(input)\n",
    "    x = concatenate([x, skip_features])\n",
    "    x = conv_block(x, num_filters)\n",
    "    return x"
   ]
  },
  {
   "cell_type": "code",
   "execution_count": 8,
   "id": "c79a8b86-c502-4577-a099-5a4759188837",
   "metadata": {},
   "outputs": [],
   "source": [
    "# Define Network\n",
    "def build_unet(input_shape):\n",
    "    inputs = Input(input_shape)\n",
    "\n",
    "    s1, p1 = encoder_block1(inputs, 32)\n",
    "    s2, p2 = encoder_block2(p1, 64)\n",
    "    s3, p3 = encoder_block(p2, 128)\n",
    "    s4, p4 = encoder_block(p3, 256)\n",
    "\n",
    "    b1 = conv_block(p4, 512)\n",
    "\n",
    "    d1 = decoder_block(b1, s4, 256)\n",
    "    d2 = decoder_block(d1, s3, 128)\n",
    "    d3 = decoder_block(d2, s2, 64)\n",
    "    d4 = decoder_block(d3, s1, 32)\n",
    "    \n",
    "    outputs = Conv2D(1,1, padding = \"same\", activation = \"sigmoid\")(d4)\n",
    "    \n",
    "    model = Model(inputs, outputs, name = \"U-Net\")\n",
    "    return model"
   ]
  },
  {
   "cell_type": "code",
   "execution_count": 9,
   "id": "1c5f9a52-1c76-4514-9790-bce58d4bd1a1",
   "metadata": {},
   "outputs": [],
   "source": [
    "import tensorflow as tf\n",
    "import os\n",
    "from pathlib import Path\n",
    "import numpy as np\n",
    "from tqdm import tqdm\n",
    "from skimage import color\n",
    "from skimage.io import imread, imshow\n",
    "from skimage.transform import resize\n",
    "import matplotlib.pyplot as plt\n",
    "import random"
   ]
  },
  {
   "cell_type": "code",
   "execution_count": 10,
   "id": "d36d9889-f129-4987-ba5d-2c8db1d4aff5",
   "metadata": {},
   "outputs": [
    {
     "name": "stdout",
     "output_type": "stream",
     "text": [
      "Num GPUs Available:  1\n"
     ]
    }
   ],
   "source": [
    "# Test for GPU\n",
    "print(\"Num GPUs Available: \", len(tf.config.list_physical_devices('GPU')))\n",
    "os.environ['KMP_DUPLICATE_LIB_OK'] = 'True'"
   ]
  },
  {
   "cell_type": "code",
   "execution_count": 11,
   "id": "5e02ed83-dddf-425e-82bf-7505bea03bfa",
   "metadata": {},
   "outputs": [
    {
     "name": "stderr",
     "output_type": "stream",
     "text": [
      "  2%|█▌                                                                                | 2/107 [00:00<00:05, 19.05it/s]"
     ]
    },
    {
     "name": "stdout",
     "output_type": "stream",
     "text": [
      "CRACK500_20160222_080850_1281_361.jpg\n",
      "CRACK500_20160222_080850_1281_721.jpg\n",
      "CRACK500_20160222_080850_1921_1.jpg\n",
      "CRACK500_20160222_080850_1921_361.jpg\n",
      "CRACK500_20160222_080850_1_361.jpg\n"
     ]
    },
    {
     "name": "stderr",
     "output_type": "stream",
     "text": [
      "  7%|██████▏                                                                           | 8/107 [00:00<00:04, 20.67it/s]"
     ]
    },
    {
     "name": "stdout",
     "output_type": "stream",
     "text": [
      "CRACK500_20160222_080850_641_361.jpg\n",
      "CRACK500_20160222_080850_641_721.jpg\n",
      "CRACK500_20160222_080933_361_1.jpg\n",
      "CRACK500_20160222_080933_361_1921.jpg\n",
      "CRACK500_20160222_080933_361_641.jpg\n"
     ]
    },
    {
     "name": "stderr",
     "output_type": "stream",
     "text": [
      "\r",
      " 10%|████████▎                                                                        | 11/107 [00:00<00:04, 21.24it/s]"
     ]
    },
    {
     "name": "stdout",
     "output_type": "stream",
     "text": [
      "CRACK500_20160222_080933_721_1.jpg\n",
      "CRACK500_20160222_080933_721_1921.jpg\n",
      "CRACK500_20160222_080933_721_641.jpg\n"
     ]
    },
    {
     "name": "stderr",
     "output_type": "stream",
     "text": [
      "\r",
      " 13%|██████████▌                                                                      | 14/107 [00:00<00:04, 21.65it/s]"
     ]
    },
    {
     "name": "stdout",
     "output_type": "stream",
     "text": [
      "CRACK500_20160222_081011_1281_721.jpg\n",
      "CRACK500_20160222_081011_1921_721.jpg\n"
     ]
    },
    {
     "name": "stderr",
     "output_type": "stream",
     "text": [
      "\r",
      " 16%|████████████▊                                                                    | 17/107 [00:00<00:04, 21.58it/s]"
     ]
    },
    {
     "name": "stdout",
     "output_type": "stream",
     "text": [
      "CRACK500_20160222_081011_1_361.jpg\n",
      "CRACK500_20160222_081011_1_721.jpg\n",
      "CRACK500_20160222_081011_641_361.jpg\n",
      "CRACK500_20160222_081011_641_721.jpg\n",
      "CRACK500_20160222_081031_1281_361.jpg\n"
     ]
    },
    {
     "name": "stderr",
     "output_type": "stream",
     "text": [
      "\r",
      " 19%|███████████████▏                                                                 | 20/107 [00:00<00:04, 21.15it/s]"
     ]
    },
    {
     "name": "stdout",
     "output_type": "stream",
     "text": [
      "CRACK500_20160222_081031_1921_361.jpg\n",
      "CRACK500_20160222_081031_1_721.jpg\n"
     ]
    },
    {
     "name": "stderr",
     "output_type": "stream",
     "text": [
      "\r",
      " 21%|█████████████████▍                                                               | 23/107 [00:01<00:03, 21.45it/s]"
     ]
    },
    {
     "name": "stdout",
     "output_type": "stream",
     "text": [
      "CRACK500_20160222_081031_641_361.jpg\n",
      "CRACK500_20160222_081031_641_721.jpg\n",
      "CRACK500_20160222_081102_1281_361.jpg\n"
     ]
    },
    {
     "name": "stderr",
     "output_type": "stream",
     "text": [
      "\r",
      " 24%|███████████████████▋                                                             | 26/107 [00:01<00:03, 21.36it/s]"
     ]
    },
    {
     "name": "stdout",
     "output_type": "stream",
     "text": [
      "CRACK500_20160222_081102_1281_721.jpg\n"
     ]
    },
    {
     "name": "stderr",
     "output_type": "stream",
     "text": [
      "\r",
      " 27%|█████████████████████▉                                                           | 29/107 [00:01<00:03, 21.32it/s]"
     ]
    },
    {
     "name": "stdout",
     "output_type": "stream",
     "text": [
      "CRACK500_20160222_081102_1921_1.jpg\n",
      "CRACK500_20160222_081102_1921_1081.jpg\n",
      "CRACK500_20160222_081102_1921_361.jpg\n",
      "CRACK500_20160222_081102_1921_721.jpg\n",
      "CRACK500_20160222_081102_1_721.jpg\n"
     ]
    },
    {
     "name": "stderr",
     "output_type": "stream",
     "text": [
      "\r",
      " 30%|████████████████████████▏                                                        | 32/107 [00:01<00:03, 21.20it/s]"
     ]
    },
    {
     "name": "stdout",
     "output_type": "stream",
     "text": [
      "CRACK500_20160222_081102_641_361.jpg\n",
      "CRACK500_20160222_081102_641_721.jpg\n",
      "CRACK500_20160222_081111_1281_361.jpg\n"
     ]
    },
    {
     "name": "stderr",
     "output_type": "stream",
     "text": [
      "\r",
      " 33%|██████████████████████████▍                                                      | 35/107 [00:01<00:03, 21.02it/s]"
     ]
    },
    {
     "name": "stdout",
     "output_type": "stream",
     "text": [
      "CRACK500_20160222_081111_1281_721.jpg\n"
     ]
    },
    {
     "name": "stderr",
     "output_type": "stream",
     "text": [
      "\r",
      " 36%|████████████████████████████▊                                                    | 38/107 [00:01<00:03, 20.94it/s]"
     ]
    },
    {
     "name": "stdout",
     "output_type": "stream",
     "text": [
      "CRACK500_20160222_081111_1921_721.jpg\n",
      "CRACK500_20160222_081111_1_1.jpg\n",
      "CRACK500_20160222_081111_1_361.jpg\n",
      "CRACK500_20160222_081111_641_361.jpg\n",
      "CRACK500_20160222_081113_1281_361.jpg\n"
     ]
    },
    {
     "name": "stderr",
     "output_type": "stream",
     "text": [
      "\r",
      " 38%|███████████████████████████████                                                  | 41/107 [00:01<00:03, 20.95it/s]"
     ]
    },
    {
     "name": "stdout",
     "output_type": "stream",
     "text": [
      "CRACK500_20160222_081113_1281_721.jpg\n",
      "CRACK500_20160222_081113_1921_721.jpg\n",
      "CRACK500_20160222_081113_1_361.jpg\n"
     ]
    },
    {
     "name": "stderr",
     "output_type": "stream",
     "text": [
      "\r",
      " 41%|█████████████████████████████████▎                                               | 44/107 [00:02<00:03, 21.00it/s]"
     ]
    },
    {
     "name": "stdout",
     "output_type": "stream",
     "text": [
      "CRACK500_20160222_081113_1_721.jpg\n"
     ]
    },
    {
     "name": "stderr",
     "output_type": "stream",
     "text": [
      "\r",
      " 44%|███████████████████████████████████▌                                             | 47/107 [00:02<00:02, 21.14it/s]"
     ]
    },
    {
     "name": "stdout",
     "output_type": "stream",
     "text": [
      "CRACK500_20160222_081113_641_361.jpg\n",
      "CRACK500_20160222_081113_641_721.jpg\n",
      "CRACK500_20160222_081839_1281_1.jpg\n",
      "CRACK500_20160222_081839_1281_1081.jpg\n",
      "CRACK500_20160222_081839_1281_361.jpg\n"
     ]
    },
    {
     "name": "stderr",
     "output_type": "stream",
     "text": [
      "\r",
      " 47%|█████████████████████████████████████▊                                           | 50/107 [00:02<00:02, 21.10it/s]"
     ]
    },
    {
     "name": "stdout",
     "output_type": "stream",
     "text": [
      "CRACK500_20160222_081839_1281_721.jpg\n",
      "CRACK500_20160222_081839_1921_361.jpg\n",
      "CRACK500_20160222_081839_641_721.jpg\n"
     ]
    },
    {
     "name": "stderr",
     "output_type": "stream",
     "text": [
      "\r",
      " 50%|████████████████████████████████████████                                         | 53/107 [00:02<00:02, 21.09it/s]"
     ]
    },
    {
     "name": "stdout",
     "output_type": "stream",
     "text": [
      "CRACK500_20160222_081908_1281_1.jpg\n"
     ]
    },
    {
     "name": "stderr",
     "output_type": "stream",
     "text": [
      "\r",
      " 52%|██████████████████████████████████████████▍                                      | 56/107 [00:02<00:02, 21.17it/s]"
     ]
    },
    {
     "name": "stdout",
     "output_type": "stream",
     "text": [
      "CRACK500_20160222_081908_1281_1081.jpg\n",
      "CRACK500_20160222_081908_1281_721.jpg\n",
      "CRACK500_20160222_081908_1_1.jpg\n",
      "CRACK500_20160222_081908_1_1081.jpg\n",
      "CRACK500_20160222_081908_1_361.jpg\n"
     ]
    },
    {
     "name": "stderr",
     "output_type": "stream",
     "text": [
      "\r",
      " 55%|████████████████████████████████████████████▋                                    | 59/107 [00:02<00:02, 20.27it/s]"
     ]
    },
    {
     "name": "stdout",
     "output_type": "stream",
     "text": [
      "CRACK500_20160222_081908_1_721.jpg\n",
      "CRACK500_20160222_081908_641_361.jpg\n",
      "CRACK500_20160222_081908_641_721.jpg\n"
     ]
    },
    {
     "name": "stderr",
     "output_type": "stream",
     "text": [
      "\r",
      " 58%|██████████████████████████████████████████████▉                                  | 62/107 [00:02<00:02, 20.22it/s]"
     ]
    },
    {
     "name": "stdout",
     "output_type": "stream",
     "text": [
      "CRACK500_20160222_082414_1281_1081.jpg\n",
      "CRACK500_20160222_082414_1281_361.jpg\n",
      "CRACK500_20160222_082414_1_361.jpg\n",
      "CRACK500_20160222_082414_641_361.jpg\n"
     ]
    },
    {
     "name": "stderr",
     "output_type": "stream",
     "text": [
      "\r",
      " 61%|█████████████████████████████████████████████████▏                               | 65/107 [00:03<00:02, 19.97it/s]"
     ]
    },
    {
     "name": "stdout",
     "output_type": "stream",
     "text": [
      "CRACK500_20160222_114759_1281_1.jpg\n",
      "CRACK500_20160222_114759_1281_721.jpg\n"
     ]
    },
    {
     "name": "stderr",
     "output_type": "stream",
     "text": [
      "\r",
      " 64%|███████████████████████████████████████████████████▍                             | 68/107 [00:03<00:01, 20.04it/s]"
     ]
    },
    {
     "name": "stdout",
     "output_type": "stream",
     "text": [
      "CRACK500_20160222_114759_1921_1.jpg\n",
      "CRACK500_20160222_114759_1921_1081.jpg\n",
      "CRACK500_20160222_114759_1921_361.jpg\n"
     ]
    },
    {
     "name": "stderr",
     "output_type": "stream",
     "text": [
      "\r",
      " 66%|█████████████████████████████████████████████████████▋                           | 71/107 [00:03<00:01, 20.04it/s]"
     ]
    },
    {
     "name": "stdout",
     "output_type": "stream",
     "text": [
      "CRACK500_20160222_114759_1921_721.jpg\n",
      "CRACK500_20160222_114759_1_1081.jpg\n",
      "CRACK500_20160222_114759_1_361.jpg\n",
      "CRACK500_20160222_114759_1_721.jpg\n"
     ]
    },
    {
     "name": "stderr",
     "output_type": "stream",
     "text": [
      "\r",
      " 69%|████████████████████████████████████████████████████████                         | 74/107 [00:03<00:01, 20.13it/s]"
     ]
    },
    {
     "name": "stdout",
     "output_type": "stream",
     "text": [
      "CRACK500_20160222_114759_641_1.jpg\n",
      "CRACK500_20160222_114759_641_1081.jpg\n"
     ]
    },
    {
     "name": "stderr",
     "output_type": "stream",
     "text": [
      "\r",
      " 72%|██████████████████████████████████████████████████████████▎                      | 77/107 [00:03<00:01, 19.94it/s]"
     ]
    },
    {
     "name": "stdout",
     "output_type": "stream",
     "text": [
      "CRACK500_20160222_114759_641_361.jpg\n",
      "CRACK500_20160222_114806_1281_1.jpg\n",
      "CRACK500_20160222_114806_1281_1081.jpg\n"
     ]
    },
    {
     "name": "stderr",
     "output_type": "stream",
     "text": [
      "\r",
      " 74%|███████████████████████████████████████████████████████████▊                     | 79/107 [00:03<00:01, 19.83it/s]"
     ]
    },
    {
     "name": "stdout",
     "output_type": "stream",
     "text": [
      "CRACK500_20160222_114806_1281_361.jpg\n"
     ]
    },
    {
     "name": "stderr",
     "output_type": "stream",
     "text": [
      " 78%|██████████████████████████████████████████████████████████████▊                  | 83/107 [00:04<00:01, 19.76it/s]"
     ]
    },
    {
     "name": "stdout",
     "output_type": "stream",
     "text": [
      "CRACK500_20160222_114806_1281_721.jpg\n",
      "CRACK500_20160222_115219_1281_361.jpg\n",
      "CRACK500_20160222_115219_1281_721.jpg\n",
      "CRACK500_20160222_115219_1921_1081.jpg\n",
      "CRACK500_20160222_115219_641_361.jpg\n"
     ]
    },
    {
     "name": "stderr",
     "output_type": "stream",
     "text": [
      "\r",
      " 79%|████████████████████████████████████████████████████████████████▎                | 85/107 [00:04<00:01, 19.53it/s]"
     ]
    },
    {
     "name": "stdout",
     "output_type": "stream",
     "text": [
      "CRACK500_20160222_115224_1281_1.jpg\n",
      "CRACK500_20160222_115224_1281_721.jpg\n",
      "CRACK500_20160222_115224_1921_1081.jpg\n"
     ]
    },
    {
     "name": "stderr",
     "output_type": "stream",
     "text": [
      "\r",
      " 82%|██████████████████████████████████████████████████████████████████▌              | 88/107 [00:04<00:00, 19.91it/s]"
     ]
    },
    {
     "name": "stdout",
     "output_type": "stream",
     "text": [
      "CRACK500_20160222_115224_641_1.jpg\n",
      "CRACK500_20160222_115224_641_1081.jpg\n"
     ]
    },
    {
     "name": "stderr",
     "output_type": "stream",
     "text": [
      "\r",
      " 85%|████████████████████████████████████████████████████████████████████▉            | 91/107 [00:04<00:00, 20.24it/s]"
     ]
    },
    {
     "name": "stdout",
     "output_type": "stream",
     "text": [
      "CRACK500_20160222_115224_641_361.jpg\n",
      "CRACK500_20160222_115233_1281_361.jpg\n",
      "CRACK500_20160222_115233_1281_721.jpg\n",
      "CRACK500_20160222_115233_1_721.jpg\n"
     ]
    },
    {
     "name": "stderr",
     "output_type": "stream",
     "text": [
      "\r",
      " 88%|███████████████████████████████████████████████████████████████████████▏         | 94/107 [00:04<00:00, 20.39it/s]"
     ]
    },
    {
     "name": "stdout",
     "output_type": "stream",
     "text": [
      "CRACK500_20160222_115233_641_361.jpg\n",
      "CRACK500_20160222_115305_1281_1081.jpg\n",
      "CRACK500_20160222_115305_1921_1081.jpg\n"
     ]
    },
    {
     "name": "stderr",
     "output_type": "stream",
     "text": [
      "\r",
      " 91%|█████████████████████████████████████████████████████████████████████████▍       | 97/107 [00:04<00:00, 20.55it/s]"
     ]
    },
    {
     "name": "stdout",
     "output_type": "stream",
     "text": [
      "CRACK500_20160222_115305_1921_361.jpg\n",
      "CRACK500_20160222_115305_641_1.jpg\n"
     ]
    },
    {
     "name": "stderr",
     "output_type": "stream",
     "text": [
      "\r",
      " 93%|██████████████████████████████████████████████████████████████████████████▊     | 100/107 [00:04<00:00, 20.67it/s]"
     ]
    },
    {
     "name": "stdout",
     "output_type": "stream",
     "text": [
      "CRACK500_20160222_115305_641_1081.jpg\n",
      "CRACK500_20160222_115305_641_361.jpg\n",
      "CRACK500_20160222_115305_641_721.jpg\n"
     ]
    },
    {
     "name": "stderr",
     "output_type": "stream",
     "text": [
      "\r",
      " 96%|█████████████████████████████████████████████████████████████████████████████   | 103/107 [00:04<00:00, 20.54it/s]"
     ]
    },
    {
     "name": "stdout",
     "output_type": "stream",
     "text": [
      "CRACK500_20160222_115324_1281_1.jpg\n"
     ]
    },
    {
     "name": "stderr",
     "output_type": "stream",
     "text": [
      "\r",
      " 99%|███████████████████████████████████████████████████████████████████████████████▎| 106/107 [00:05<00:00, 20.66it/s]"
     ]
    },
    {
     "name": "stdout",
     "output_type": "stream",
     "text": [
      "CRACK500_20160222_115324_1281_361.jpg\n",
      "CRACK500_20160222_115324_1_1.jpg\n",
      "CRACK500_20160222_115324_641_1081.jpg\n"
     ]
    },
    {
     "name": "stderr",
     "output_type": "stream",
     "text": [
      "\r",
      "100%|████████████████████████████████████████████████████████████████████████████████| 107/107 [00:05<00:00, 20.56it/s]"
     ]
    },
    {
     "name": "stdout",
     "output_type": "stream",
     "text": [
      "CRACK500_20160222_115324_641_721.jpg\n"
     ]
    },
    {
     "name": "stderr",
     "output_type": "stream",
     "text": [
      "\n",
      " 23%|███████████████████▏                                                               | 3/13 [00:00<00:00, 24.98it/s]"
     ]
    },
    {
     "name": "stdout",
     "output_type": "stream",
     "text": [
      "CFD_001.jpg\n",
      "CFD_005.jpg\n",
      "CFD_018.jpg\n",
      "CFD_069.jpg\n",
      "CFD_111.jpg\n",
      "CFD_112.jpg\n"
     ]
    },
    {
     "name": "stderr",
     "output_type": "stream",
     "text": [
      "\r",
      " 46%|██████████████████████████████████████▎                                            | 6/13 [00:00<00:00, 25.17it/s]"
     ]
    },
    {
     "name": "stdout",
     "output_type": "stream",
     "text": [
      "CRACK500_20160222_080850_1_361.jpg\n",
      "CRACK500_20160222_080850_641_721.jpg\n",
      "CRACK500_20160222_115219_641_1.jpg\n"
     ]
    },
    {
     "name": "stderr",
     "output_type": "stream",
     "text": [
      "\r",
      " 69%|█████████████████████████████████████████████████████████▍                         | 9/13 [00:00<00:00, 24.94it/s]"
     ]
    },
    {
     "name": "stdout",
     "output_type": "stream",
     "text": [
      "CRACK500_20160222_115224_1281_361.jpg\n",
      "CRACK500_20160222_163940_641_1.jpg\n",
      "CRACK500_20160222_163940_641_1081.jpg\n"
     ]
    },
    {
     "name": "stderr",
     "output_type": "stream",
     "text": [
      "100%|██████████████████████████████████████████████████████████████████████████████████| 13/13 [00:00<00:00, 24.78it/s]"
     ]
    },
    {
     "name": "stdout",
     "output_type": "stream",
     "text": [
      "RGB2.jpg\n"
     ]
    },
    {
     "name": "stderr",
     "output_type": "stream",
     "text": [
      "\n"
     ]
    }
   ],
   "source": [
    "# Define Training Set & Testing Set\n",
    "IMG_WIDTH = 448\n",
    "IMG_HEIGHT = 448\n",
    "IMG_CHANNELS = 3\n",
    "Train_X_dir = Path(r'C:\\Users\\tenso\\Downloads\\New Project\\Set\\Crack\\images')\n",
    "Train_Y_dir = Path(r'C:\\Users\\tenso\\Downloads\\New Project\\Set\\Crack\\masks')\n",
    "Test_X_dir = Path(r'C:\\Users\\tenso\\Downloads\\New Project\\Set\\Crack\\sample')\n",
    "Train_X_ids = next(os.walk(Train_X_dir))[2]\n",
    "Train_Y_ids = next(os.walk(Train_Y_dir))[2]\n",
    "Test_X_ids = next(os.walk(Test_X_dir))[2]\n",
    "Train_X_path = 'Set/Crack/images/'\n",
    "Train_Y_path = 'Set/Crack//masks/'\n",
    "Test_X_path = 'Set/Crack/sample/'\n",
    "Train_X = np.zeros((len(Train_X_ids), IMG_HEIGHT, IMG_WIDTH,3), dtype=np.uint8)\n",
    "Train_Y = np.zeros((len(Train_Y_ids), IMG_HEIGHT, IMG_WIDTH,1), dtype=bool)\n",
    "Test_X = np.zeros((len(Test_X_ids), IMG_HEIGHT, IMG_WIDTH,3), dtype=np.uint8)\n",
    "for n, id_ in tqdm(enumerate(Train_X_ids), total=len(Train_X_ids)):\n",
    "    print(id_)\n",
    "    img_paths = Train_X_path + id_\n",
    "    img = imread(img_paths)[:,:,:IMG_CHANNELS]\n",
    "    img = resize(img, (IMG_HEIGHT, IMG_WIDTH), mode='constant', preserve_range=True)\n",
    "    Train_X[n] = img\n",
    "    msk_paths = Train_Y_path + id_\n",
    "    msk = imread(msk_paths)[:,:]\n",
    "    msk = resize(msk, (IMG_HEIGHT, IMG_WIDTH), mode='constant', preserve_range=True)\n",
    "    msk = np.expand_dims(msk,axis=-1)\n",
    "    Train_Y[n]=msk\n",
    "    \n",
    "\n",
    "sizes_test = []\n",
    "for n, id_ in tqdm(enumerate(Test_X_ids), total=len(Test_X_ids)):\n",
    "    print(id_)\n",
    "    img_paths = Test_X_path + id_\n",
    "    img = imread(img_paths)[:,:,:IMG_CHANNELS]\n",
    "    sizes_test.append([img.shape[0], img.shape[1]])\n",
    "    img = resize(img, (IMG_HEIGHT, IMG_WIDTH), mode='constant', preserve_range=True)\n",
    "    # img = color.rgb2gray(img)\n",
    "    Test_X[n] = img"
   ]
  },
  {
   "cell_type": "code",
   "execution_count": 12,
   "id": "a1177c07-221c-4fb5-9438-e5b2f0336f01",
   "metadata": {},
   "outputs": [],
   "source": [
    "input_shape = (IMG_HEIGHT, IMG_WIDTH, IMG_CHANNELS)"
   ]
  },
  {
   "cell_type": "code",
   "execution_count": 13,
   "id": "7fa65211-289f-48ea-ae45-186b29146754",
   "metadata": {},
   "outputs": [],
   "source": [
    "# Model Hyperparameters\n",
    "model = build_unet(input_shape)\n",
    "model.compile(optimizer='adam',\n",
    "             loss='binary_crossentropy',\n",
    "             metrics = ['Accuracy'])"
   ]
  },
  {
   "cell_type": "code",
   "execution_count": 14,
   "id": "4fe7c529",
   "metadata": {},
   "outputs": [
    {
     "name": "stdout",
     "output_type": "stream",
     "text": [
      "Model: \"U-Net\"\n",
      "__________________________________________________________________________________________________\n",
      " Layer (type)                   Output Shape         Param #     Connected to                     \n",
      "==================================================================================================\n",
      " input_1 (InputLayer)           [(None, 448, 448, 3  0           []                               \n",
      "                                )]                                                                \n",
      "                                                                                                  \n",
      " lambda (Lambda)                (None, 448, 448, 3)  0           ['input_1[0][0]']                \n",
      "                                                                                                  \n",
      " conv2d (Conv2D)                (None, 448, 448, 32  128         ['lambda[0][0]']                 \n",
      "                                )                                                                 \n",
      "                                                                                                  \n",
      " conv2d_1 (Conv2D)              (None, 448, 448, 32  896         ['lambda[0][0]']                 \n",
      "                                )                                                                 \n",
      "                                                                                                  \n",
      " conv2d_2 (Conv2D)              (None, 448, 448, 32  2432        ['lambda[0][0]']                 \n",
      "                                )                                                                 \n",
      "                                                                                                  \n",
      " average_pooling2d (AveragePool  (None, 448, 448, 3)  0          ['lambda[0][0]']                 \n",
      " ing2D)                                                                                           \n",
      "                                                                                                  \n",
      " concatenate (Concatenate)      (None, 448, 448, 99  0           ['conv2d[0][0]',                 \n",
      "                                )                                 'conv2d_1[0][0]',               \n",
      "                                                                  'conv2d_2[0][0]',               \n",
      "                                                                  'average_pooling2d[0][0]']      \n",
      "                                                                                                  \n",
      " conv2d_3 (Conv2D)              (None, 448, 448, 32  28544       ['concatenate[0][0]']            \n",
      "                                )                                                                 \n",
      "                                                                                                  \n",
      " batch_normalization (BatchNorm  (None, 448, 448, 32  128        ['conv2d_3[0][0]']               \n",
      " alization)                     )                                                                 \n",
      "                                                                                                  \n",
      " activation (Activation)        (None, 448, 448, 32  0           ['batch_normalization[0][0]']    \n",
      "                                )                                                                 \n",
      "                                                                                                  \n",
      " max_pooling2d (MaxPooling2D)   (None, 224, 224, 32  0           ['activation[0][0]']             \n",
      "                                )                                                                 \n",
      "                                                                                                  \n",
      " conv2d_4 (Conv2D)              (None, 224, 224, 64  2112        ['max_pooling2d[0][0]']          \n",
      "                                )                                                                 \n",
      "                                                                                                  \n",
      " conv2d_5 (Conv2D)              (None, 224, 224, 64  18496       ['max_pooling2d[0][0]']          \n",
      "                                )                                                                 \n",
      "                                                                                                  \n",
      " average_pooling2d_1 (AveragePo  (None, 224, 224, 32  0          ['max_pooling2d[0][0]']          \n",
      " oling2D)                       )                                                                 \n",
      "                                                                                                  \n",
      " concatenate_1 (Concatenate)    (None, 224, 224, 16  0           ['conv2d_4[0][0]',               \n",
      "                                0)                                'conv2d_5[0][0]',               \n",
      "                                                                  'average_pooling2d_1[0][0]']    \n",
      "                                                                                                  \n",
      " conv2d_6 (Conv2D)              (None, 224, 224, 64  92224       ['concatenate_1[0][0]']          \n",
      "                                )                                                                 \n",
      "                                                                                                  \n",
      " batch_normalization_1 (BatchNo  (None, 224, 224, 64  256        ['conv2d_6[0][0]']               \n",
      " rmalization)                   )                                                                 \n",
      "                                                                                                  \n",
      " activation_1 (Activation)      (None, 224, 224, 64  0           ['batch_normalization_1[0][0]']  \n",
      "                                )                                                                 \n",
      "                                                                                                  \n",
      " max_pooling2d_1 (MaxPooling2D)  (None, 112, 112, 64  0          ['activation_1[0][0]']           \n",
      "                                )                                                                 \n",
      "                                                                                                  \n",
      " conv2d_7 (Conv2D)              (None, 112, 112, 12  73856       ['max_pooling2d_1[0][0]']        \n",
      "                                8)                                                                \n",
      "                                                                                                  \n",
      " batch_normalization_2 (BatchNo  (None, 112, 112, 12  512        ['conv2d_7[0][0]']               \n",
      " rmalization)                   8)                                                                \n",
      "                                                                                                  \n",
      " activation_2 (Activation)      (None, 112, 112, 12  0           ['batch_normalization_2[0][0]']  \n",
      "                                8)                                                                \n",
      "                                                                                                  \n",
      " conv2d_8 (Conv2D)              (None, 112, 112, 12  147584      ['activation_2[0][0]']           \n",
      "                                8)                                                                \n",
      "                                                                                                  \n",
      " batch_normalization_3 (BatchNo  (None, 112, 112, 12  512        ['conv2d_8[0][0]']               \n",
      " rmalization)                   8)                                                                \n",
      "                                                                                                  \n",
      " activation_3 (Activation)      (None, 112, 112, 12  0           ['batch_normalization_3[0][0]']  \n",
      "                                8)                                                                \n",
      "                                                                                                  \n",
      " max_pooling2d_2 (MaxPooling2D)  (None, 56, 56, 128)  0          ['activation_3[0][0]']           \n",
      "                                                                                                  \n",
      " conv2d_9 (Conv2D)              (None, 56, 56, 256)  295168      ['max_pooling2d_2[0][0]']        \n"
     ]
    },
    {
     "name": "stdout",
     "output_type": "stream",
     "text": [
      "                                                                                                  \n",
      " batch_normalization_4 (BatchNo  (None, 56, 56, 256)  1024       ['conv2d_9[0][0]']               \n",
      " rmalization)                                                                                     \n",
      "                                                                                                  \n",
      " activation_4 (Activation)      (None, 56, 56, 256)  0           ['batch_normalization_4[0][0]']  \n",
      "                                                                                                  \n",
      " conv2d_10 (Conv2D)             (None, 56, 56, 256)  590080      ['activation_4[0][0]']           \n",
      "                                                                                                  \n",
      " batch_normalization_5 (BatchNo  (None, 56, 56, 256)  1024       ['conv2d_10[0][0]']              \n",
      " rmalization)                                                                                     \n",
      "                                                                                                  \n",
      " activation_5 (Activation)      (None, 56, 56, 256)  0           ['batch_normalization_5[0][0]']  \n",
      "                                                                                                  \n",
      " max_pooling2d_3 (MaxPooling2D)  (None, 28, 28, 256)  0          ['activation_5[0][0]']           \n",
      "                                                                                                  \n",
      " conv2d_11 (Conv2D)             (None, 28, 28, 512)  1180160     ['max_pooling2d_3[0][0]']        \n",
      "                                                                                                  \n",
      " batch_normalization_6 (BatchNo  (None, 28, 28, 512)  2048       ['conv2d_11[0][0]']              \n",
      " rmalization)                                                                                     \n",
      "                                                                                                  \n",
      " activation_6 (Activation)      (None, 28, 28, 512)  0           ['batch_normalization_6[0][0]']  \n",
      "                                                                                                  \n",
      " conv2d_12 (Conv2D)             (None, 28, 28, 512)  2359808     ['activation_6[0][0]']           \n",
      "                                                                                                  \n",
      " batch_normalization_7 (BatchNo  (None, 28, 28, 512)  2048       ['conv2d_12[0][0]']              \n",
      " rmalization)                                                                                     \n",
      "                                                                                                  \n",
      " activation_7 (Activation)      (None, 28, 28, 512)  0           ['batch_normalization_7[0][0]']  \n",
      "                                                                                                  \n",
      " conv2d_transpose (Conv2DTransp  (None, 56, 56, 256)  524544     ['activation_7[0][0]']           \n",
      " ose)                                                                                             \n",
      "                                                                                                  \n",
      " concatenate_2 (Concatenate)    (None, 56, 56, 512)  0           ['conv2d_transpose[0][0]',       \n",
      "                                                                  'activation_5[0][0]']           \n",
      "                                                                                                  \n",
      " conv2d_13 (Conv2D)             (None, 56, 56, 256)  1179904     ['concatenate_2[0][0]']          \n",
      "                                                                                                  \n",
      " batch_normalization_8 (BatchNo  (None, 56, 56, 256)  1024       ['conv2d_13[0][0]']              \n",
      " rmalization)                                                                                     \n",
      "                                                                                                  \n",
      " activation_8 (Activation)      (None, 56, 56, 256)  0           ['batch_normalization_8[0][0]']  \n",
      "                                                                                                  \n",
      " conv2d_14 (Conv2D)             (None, 56, 56, 256)  590080      ['activation_8[0][0]']           \n",
      "                                                                                                  \n",
      " batch_normalization_9 (BatchNo  (None, 56, 56, 256)  1024       ['conv2d_14[0][0]']              \n",
      " rmalization)                                                                                     \n",
      "                                                                                                  \n",
      " activation_9 (Activation)      (None, 56, 56, 256)  0           ['batch_normalization_9[0][0]']  \n",
      "                                                                                                  \n",
      " conv2d_transpose_1 (Conv2DTran  (None, 112, 112, 12  131200     ['activation_9[0][0]']           \n",
      " spose)                         8)                                                                \n",
      "                                                                                                  \n",
      " concatenate_3 (Concatenate)    (None, 112, 112, 25  0           ['conv2d_transpose_1[0][0]',     \n",
      "                                6)                                'activation_3[0][0]']           \n",
      "                                                                                                  \n",
      " conv2d_15 (Conv2D)             (None, 112, 112, 12  295040      ['concatenate_3[0][0]']          \n",
      "                                8)                                                                \n",
      "                                                                                                  \n",
      " batch_normalization_10 (BatchN  (None, 112, 112, 12  512        ['conv2d_15[0][0]']              \n",
      " ormalization)                  8)                                                                \n",
      "                                                                                                  \n",
      " activation_10 (Activation)     (None, 112, 112, 12  0           ['batch_normalization_10[0][0]'] \n",
      "                                8)                                                                \n",
      "                                                                                                  \n",
      " conv2d_16 (Conv2D)             (None, 112, 112, 12  147584      ['activation_10[0][0]']          \n",
      "                                8)                                                                \n",
      "                                                                                                  \n",
      " batch_normalization_11 (BatchN  (None, 112, 112, 12  512        ['conv2d_16[0][0]']              \n",
      " ormalization)                  8)                                                                \n",
      "                                                                                                  \n",
      " activation_11 (Activation)     (None, 112, 112, 12  0           ['batch_normalization_11[0][0]'] \n",
      "                                8)                                                                \n",
      "                                                                                                  \n",
      " conv2d_transpose_2 (Conv2DTran  (None, 224, 224, 64  32832      ['activation_11[0][0]']          \n",
      " spose)                         )                                                                 \n",
      "                                                                                                  \n",
      " concatenate_4 (Concatenate)    (None, 224, 224, 12  0           ['conv2d_transpose_2[0][0]',     \n",
      "                                8)                                'activation_1[0][0]']           \n",
      "                                                                                                  \n",
      " conv2d_17 (Conv2D)             (None, 224, 224, 64  73792       ['concatenate_4[0][0]']          \n",
      "                                )                                                                 \n",
      "                                                                                                  \n",
      " batch_normalization_12 (BatchN  (None, 224, 224, 64  256        ['conv2d_17[0][0]']              \n"
     ]
    },
    {
     "name": "stdout",
     "output_type": "stream",
     "text": [
      " ormalization)                  )                                                                 \n",
      "                                                                                                  \n",
      " activation_12 (Activation)     (None, 224, 224, 64  0           ['batch_normalization_12[0][0]'] \n",
      "                                )                                                                 \n",
      "                                                                                                  \n",
      " conv2d_18 (Conv2D)             (None, 224, 224, 64  36928       ['activation_12[0][0]']          \n",
      "                                )                                                                 \n",
      "                                                                                                  \n",
      " batch_normalization_13 (BatchN  (None, 224, 224, 64  256        ['conv2d_18[0][0]']              \n",
      " ormalization)                  )                                                                 \n",
      "                                                                                                  \n",
      " activation_13 (Activation)     (None, 224, 224, 64  0           ['batch_normalization_13[0][0]'] \n",
      "                                )                                                                 \n",
      "                                                                                                  \n",
      " conv2d_transpose_3 (Conv2DTran  (None, 448, 448, 32  8224       ['activation_13[0][0]']          \n",
      " spose)                         )                                                                 \n",
      "                                                                                                  \n",
      " concatenate_5 (Concatenate)    (None, 448, 448, 64  0           ['conv2d_transpose_3[0][0]',     \n",
      "                                )                                 'activation[0][0]']             \n",
      "                                                                                                  \n",
      " conv2d_19 (Conv2D)             (None, 448, 448, 32  18464       ['concatenate_5[0][0]']          \n",
      "                                )                                                                 \n",
      "                                                                                                  \n",
      " batch_normalization_14 (BatchN  (None, 448, 448, 32  128        ['conv2d_19[0][0]']              \n",
      " ormalization)                  )                                                                 \n",
      "                                                                                                  \n",
      " activation_14 (Activation)     (None, 448, 448, 32  0           ['batch_normalization_14[0][0]'] \n",
      "                                )                                                                 \n",
      "                                                                                                  \n",
      " conv2d_20 (Conv2D)             (None, 448, 448, 32  9248        ['activation_14[0][0]']          \n",
      "                                )                                                                 \n",
      "                                                                                                  \n",
      " batch_normalization_15 (BatchN  (None, 448, 448, 32  128        ['conv2d_20[0][0]']              \n",
      " ormalization)                  )                                                                 \n",
      "                                                                                                  \n",
      " activation_15 (Activation)     (None, 448, 448, 32  0           ['batch_normalization_15[0][0]'] \n",
      "                                )                                                                 \n",
      "                                                                                                  \n",
      " conv2d_21 (Conv2D)             (None, 448, 448, 1)  33          ['activation_15[0][0]']          \n",
      "                                                                                                  \n",
      "==================================================================================================\n",
      "Total params: 7,850,753\n",
      "Trainable params: 7,845,057\n",
      "Non-trainable params: 5,696\n",
      "__________________________________________________________________________________________________\n"
     ]
    }
   ],
   "source": [
    "model.summary()"
   ]
  },
  {
   "cell_type": "code",
   "execution_count": 46,
   "id": "5f86606b-4089-4f9a-9069-2b0edcb557ec",
   "metadata": {},
   "outputs": [
    {
     "name": "stdout",
     "output_type": "stream",
     "text": [
      "Epoch 1/100\n",
      "24/24 [==============================] - 5s 214ms/step - loss: 0.0400 - Accuracy: 0.9827 - val_loss: 0.0630 - val_Accuracy: 0.9792\n",
      "Epoch 2/100\n",
      "24/24 [==============================] - 5s 214ms/step - loss: 0.0391 - Accuracy: 0.9831 - val_loss: 0.0470 - val_Accuracy: 0.9811\n",
      "Epoch 3/100\n",
      "24/24 [==============================] - 5s 214ms/step - loss: 0.0388 - Accuracy: 0.9832 - val_loss: 0.0507 - val_Accuracy: 0.9796\n",
      "Epoch 4/100\n",
      "24/24 [==============================] - 5s 214ms/step - loss: 0.0451 - Accuracy: 0.9815 - val_loss: 0.2089 - val_Accuracy: 0.9078\n",
      "Epoch 5/100\n",
      "24/24 [==============================] - 5s 215ms/step - loss: 0.0399 - Accuracy: 0.9829 - val_loss: 0.0561 - val_Accuracy: 0.9807\n",
      "Epoch 6/100\n",
      "24/24 [==============================] - 5s 215ms/step - loss: 0.0385 - Accuracy: 0.9834 - val_loss: 0.0436 - val_Accuracy: 0.9816\n",
      "Epoch 7/100\n",
      "24/24 [==============================] - 5s 215ms/step - loss: 0.0393 - Accuracy: 0.9827 - val_loss: 0.0454 - val_Accuracy: 0.9815\n",
      "Epoch 8/100\n",
      "24/24 [==============================] - 5s 215ms/step - loss: 0.0363 - Accuracy: 0.9841 - val_loss: 0.0446 - val_Accuracy: 0.9824\n",
      "Epoch 9/100\n",
      "24/24 [==============================] - 5s 216ms/step - loss: 0.0380 - Accuracy: 0.9833 - val_loss: 0.0473 - val_Accuracy: 0.9819\n",
      "Epoch 10/100\n",
      "24/24 [==============================] - 5s 215ms/step - loss: 0.0402 - Accuracy: 0.9825 - val_loss: 0.0477 - val_Accuracy: 0.9801\n"
     ]
    }
   ],
   "source": [
    "# Train\n",
    "checkpointer = tf.keras.callbacks.ModelCheckpoint('crack_seg.h5', verbose=1, save_best_only=True)\n",
    "callbacks = [tf.keras.callbacks.EarlyStopping(monitor='val_loss', patience=4),\n",
    "            tf.keras.callbacks.TensorBoard(log_dir='logs')]\n",
    "result = model.fit(Train_X,Train_Y, validation_split=0.1, batch_size=4, epochs=100, callbacks=callbacks)"
   ]
  },
  {
   "cell_type": "code",
   "execution_count": 19,
   "id": "e0239a85-0993-4768-817f-55f7360ab5a1",
   "metadata": {},
   "outputs": [
    {
     "name": "stdout",
     "output_type": "stream",
     "text": [
      "1/1 [==============================] - 4s 4s/step\n"
     ]
    }
   ],
   "source": [
    "# Predict\n",
    "preds_test = model.predict(Test_X, verbose=1)"
   ]
  },
  {
   "cell_type": "code",
   "execution_count": 15,
   "id": "1d7b7028-963a-46d7-a33f-cdd4ddf5e50e",
   "metadata": {},
   "outputs": [],
   "source": [
    "# Step Function (not necessary)\n",
    "preds_test_t = (preds_test > 0.5).astype(np.uint8)"
   ]
  },
  {
   "cell_type": "code",
   "execution_count": 20,
   "id": "9696218b",
   "metadata": {},
   "outputs": [],
   "source": [
    "a=0"
   ]
  },
  {
   "cell_type": "code",
   "execution_count": 24,
   "id": "595a91ba-29be-4cb6-9beb-72daccefda5a",
   "metadata": {},
   "outputs": [
    {
     "data": {
      "image/png": "[encoded data removed]",
      "text/plain": [
       "<Figure size 640x480 with 1 Axes>"
      ]
     },
     "metadata": {},
     "output_type": "display_data"
    },
    {
     "data": {
      "image/png": "[encoded data removed]",
      "text/plain": [
       "<Figure size 640x480 with 1 Axes>"
      ]
     },
     "metadata": {},
     "output_type": "display_data"
    }
   ],
   "source": [
    "# Show Result\n",
    "imshow(preds_test[a])\n",
    "plt.show()\n",
    "imshow(Test_X[a])\n",
    "a=a+1"
   ]
  },
  {
   "cell_type": "code",
   "execution_count": null,
   "id": "b05b2979",
   "metadata": {},
   "outputs": [
    {
     "name": "stderr",
     "output_type": "stream",
     "text": [
      "WARNING:absl:Found untraced functions such as _jit_compiled_convolution_op, _jit_compiled_convolution_op, _jit_compiled_convolution_op, _jit_compiled_convolution_op, _jit_compiled_convolution_op while saving (showing 5 of 27). These functions will not be directly callable after loading.\n"
     ]
    }
   ],
   "source": [
    "model.save(\"my_model\")"
   ]
  },
  {
   "cell_type": "code",
   "execution_count": 17,
   "id": "baaf096a",
   "metadata": {},
   "outputs": [
    {
     "name": "stderr",
     "output_type": "stream",
     "text": [
      " 23%|███████████████████▏                                                               | 3/13 [00:00<00:00, 25.91it/s]"
     ]
    },
    {
     "name": "stdout",
     "output_type": "stream",
     "text": [
      "CFD_001.jpg\n",
      "CFD_005.jpg\n",
      "CFD_018.jpg\n",
      "CFD_069.jpg\n",
      "CFD_111.jpg\n",
      "CFD_112.jpg\n"
     ]
    },
    {
     "name": "stderr",
     "output_type": "stream",
     "text": [
      " 69%|█████████████████████████████████████████████████████████▍                         | 9/13 [00:00<00:00, 25.19it/s]"
     ]
    },
    {
     "name": "stdout",
     "output_type": "stream",
     "text": [
      "CRACK500_20160222_080850_1_361.jpg\n",
      "CRACK500_20160222_080850_641_721.jpg\n",
      "CRACK500_20160222_115219_641_1.jpg\n",
      "CRACK500_20160222_115224_1281_361.jpg\n",
      "CRACK500_20160222_163940_641_1.jpg\n",
      "CRACK500_20160222_163940_641_1081.jpg\n"
     ]
    },
    {
     "name": "stderr",
     "output_type": "stream",
     "text": [
      "100%|██████████████████████████████████████████████████████████████████████████████████| 13/13 [00:00<00:00, 24.78it/s]"
     ]
    },
    {
     "name": "stdout",
     "output_type": "stream",
     "text": [
      "RGB2.jpg\n"
     ]
    },
    {
     "name": "stderr",
     "output_type": "stream",
     "text": [
      "\n"
     ]
    }
   ],
   "source": [
    "# Test for Other Sets\n",
    "Test_P_dir = Path(r'C:\\Users\\tenso\\Downloads\\New Project\\Set\\Crack\\sample')\n",
    "Test_P_ids = next(os.walk(Test_P_dir))[2]\n",
    "Test_P_path = 'Set/Crack/sample/'\n",
    "Test_P = np.zeros((len(Test_P_ids), IMG_HEIGHT, IMG_WIDTH,3), dtype=np.uint8)\n",
    "\n",
    "sizes_test = []\n",
    "for n, id_ in tqdm(enumerate(Test_P_ids), total=len(Test_P_ids)):\n",
    "    print(id_)\n",
    "    img_paths = Test_P_path + id_\n",
    "    img = imread(img_paths)[:,:,:IMG_CHANNELS]\n",
    "    sizes_test.append([img.shape[0], img.shape[1]])\n",
    "    img = resize(img, (IMG_HEIGHT, IMG_WIDTH), mode='constant', preserve_range=True)\n",
    "    # img = color.rgb2gray(img)\n",
    "    Test_P[n] = img"
   ]
  },
  {
   "cell_type": "code",
   "execution_count": 69,
   "id": "da71f146-a18e-4710-948e-f38da520a39f",
   "metadata": {},
   "outputs": [
    {
     "name": "stderr",
     "output_type": "stream",
     "text": [
      " 17%|█████████████▊                                                                     | 3/18 [00:00<00:00, 25.67it/s]"
     ]
    },
    {
     "name": "stdout",
     "output_type": "stream",
     "text": [
      "CFD_002.jpg\n",
      "CFD_003.jpg\n",
      "CFD_004.jpg\n",
      "CFD_006.jpg\n",
      "CFD_007.jpg\n",
      "CFD_008.jpg\n"
     ]
    },
    {
     "name": "stderr",
     "output_type": "stream",
     "text": [
      " 50%|█████████████████████████████████████████▌                                         | 9/18 [00:00<00:00, 26.44it/s]"
     ]
    },
    {
     "name": "stdout",
     "output_type": "stream",
     "text": [
      "CFD_009.jpg\n",
      "CFD_010.jpg\n",
      "CFD_011.jpg\n",
      "CFD_012.jpg\n",
      "CFD_013.jpg\n",
      "CFD_014.jpg\n"
     ]
    },
    {
     "name": "stderr",
     "output_type": "stream",
     "text": [
      " 83%|████████████████████████████████████████████████████████████████████▎             | 15/18 [00:00<00:00, 25.58it/s]"
     ]
    },
    {
     "name": "stdout",
     "output_type": "stream",
     "text": [
      "CFD_015.jpg\n",
      "CFD_016.jpg\n",
      "CFD_017.jpg\n",
      "CFD_019.jpg\n",
      "CFD_020.jpg\n",
      "CFD_021.jpg\n"
     ]
    },
    {
     "name": "stderr",
     "output_type": "stream",
     "text": [
      "100%|██████████████████████████████████████████████████████████████████████████████████| 18/18 [00:00<00:00, 25.67it/s]\n"
     ]
    }
   ],
   "source": [
    "# Test for Other Sets\n",
    "Test_P_dir = Path(r'C:\\Users\\tenso\\Downloads\\New Project\\Set\\CFD\\CFD1')\n",
    "Test_P_ids = next(os.walk(Test_P_dir))[2]\n",
    "Test_P_path = 'Set/CFD/CFD1/'\n",
    "Test_P = np.zeros((len(Test_P_ids), IMG_HEIGHT, IMG_WIDTH,3), dtype=np.uint8)\n",
    "\n",
    "sizes_test = []\n",
    "for n, id_ in tqdm(enumerate(Test_P_ids), total=len(Test_P_ids)):\n",
    "    print(id_)\n",
    "    img_paths = Test_P_path + id_\n",
    "    img = imread(img_paths)[:,:,:IMG_CHANNELS]\n",
    "    sizes_test.append([img.shape[0], img.shape[1]])\n",
    "    img = resize(img, (IMG_HEIGHT, IMG_WIDTH), mode='constant', preserve_range=True)\n",
    "    # img = color.rgb2gray(img)\n",
    "    Test_P[n] = img"
   ]
  },
  {
   "cell_type": "code",
   "execution_count": 70,
   "id": "e7bb020b",
   "metadata": {},
   "outputs": [
    {
     "name": "stdout",
     "output_type": "stream",
     "text": [
      "1/1 [==============================] - 4s 4s/step\n"
     ]
    }
   ],
   "source": [
    "preds_test_P = model.predict(Test_P, verbose=1)"
   ]
  },
  {
   "cell_type": "code",
   "execution_count": 71,
   "id": "0a4b6ea6",
   "metadata": {},
   "outputs": [],
   "source": [
    "a=0"
   ]
  },
  {
   "cell_type": "code",
   "execution_count": 90,
   "id": "4771d0b0",
   "metadata": {},
   "outputs": [
    {
     "ename": "IndexError",
     "evalue": "index 18 is out of bounds for axis 0 with size 18",
     "output_type": "error",
     "traceback": [
      "\u001b[1;31m---------------------------------------------------------------------------\u001b[0m",
      "\u001b[1;31mIndexError\u001b[0m                                Traceback (most recent call last)",
      "Cell \u001b[1;32mIn[90], line 1\u001b[0m\n\u001b[1;32m----> 1\u001b[0m imshow(\u001b[43mpreds_test_P\u001b[49m\u001b[43m[\u001b[49m\u001b[43ma\u001b[49m\u001b[43m]\u001b[49m)\n\u001b[0;32m      2\u001b[0m plt\u001b[38;5;241m.\u001b[39mshow()\n\u001b[0;32m      3\u001b[0m imshow(Test_P[a])\n",
      "\u001b[1;31mIndexError\u001b[0m: index 18 is out of bounds for axis 0 with size 18"
     ]
    }
   ],
   "source": [
    "imshow(preds_test_P[a])\n",
    "plt.show()\n",
    "imshow(Test_P[a])\n",
    "a=a+1"
   ]
  },
  {
   "cell_type": "code",
   "execution_count": 47,
   "id": "5bcfbbb9",
   "metadata": {},
   "outputs": [],
   "source": [
    "Train_X=0"
   ]
  },
  {
   "cell_type": "code",
   "execution_count": 48,
   "id": "f87e71e2",
   "metadata": {},
   "outputs": [],
   "source": [
    "Train_Y=0"
   ]
  },
  {
   "cell_type": "code",
   "execution_count": null,
   "id": "ed4719fc",
   "metadata": {},
   "outputs": [],
   "source": []
  }
 ],
 "metadata": {
  "kernelspec": {
   "display_name": "Python 3 (ipykernel)",
   "language": "python",
   "name": "python3"
  },
  "language_info": {
   "codemirror_mode": {
    "name": "ipython",
    "version": 3
   },
   "file_extension": ".py",
   "mimetype": "text/x-python",
   "name": "python",
   "nbconvert_exporter": "python",
   "pygments_lexer": "ipython3",
   "version": "3.9.15"
  }
 },
 "nbformat": 4,
 "nbformat_minor": 5
}
